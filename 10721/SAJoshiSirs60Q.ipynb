{
 "cells": [
  {
   "cell_type": "code",
   "execution_count": 12,
   "id": "4a55d9ec",
   "metadata": {},
   "outputs": [
    {
     "name": "stdout",
     "output_type": "stream",
     "text": [
      "[[4, 132, 14], [12, 14, 18], [18, 2, 14]]\n"
     ]
    }
   ],
   "source": [
    "X=[[2,66,7],[6,7,9],[9,1,7]]\n",
    "Y=[[2,66,7],[6,7,9],[9,1,7]]\n",
    "\n",
    "result = [[0,0,0],[0,0,0],[0,0,0]]\n",
    "# iterate through rows\n",
    "for i in range(len(X)):\n",
    "# iterate through columns\n",
    "  for j in range(len(X[0])):\n",
    "    result[i][j] = X[i][j] + Y[i][j]\n",
    "# for r in result:\n",
    "#    print(r)\n",
    "print(result)"
   ]
  },
  {
   "cell_type": "code",
   "execution_count": 3,
   "id": "dc7e79eb",
   "metadata": {},
   "outputs": [
    {
     "name": "stdout",
     "output_type": "stream",
     "text": [
      "I like  rock\n"
     ]
    }
   ],
   "source": [
    "genre =[\"pop\", \"rock\", \"jazz\"]\n",
    "index=int(input(\"Enter the index: \"))\n",
    "print(\"I like\",genre[index])"
   ]
  },
  {
   "cell_type": "code",
   "execution_count": 30,
   "id": "19ba9473",
   "metadata": {},
   "outputs": [
    {
     "name": "stdout",
     "output_type": "stream",
     "text": [
      "[0, 2, 4, 6, 8, 10, 12, 14, 16, 18, 20, 22, 24, 26, 28, 30, 32, 34, 36, 38, 40, 42, 44, 46, 48, 50, 52, 54, 56, 58, 60, 62, 64, 66, 68, 70, 72, 74, 76, 78, 80, 82, 84, 86, 88, 90, 92, 94, 96, 98]\n",
      "[1, 3, 5, 7, 9, 11, 13, 15, 17, 19, 21, 23, 25, 27, 29, 31, 33, 35, 37, 39, 41, 43, 45, 47, 49, 51, 53, 55, 57, 59, 61, 63, 65, 67, 69, 71, 73, 75, 77, 79, 81, 83, 85, 87, 89, 91, 93, 95, 97, 99]\n",
      "50\n"
     ]
    }
   ],
   "source": [
    "#List comphrahensions\n",
    "# n= int(input())\n",
    "n=100\n",
    "list1=list(range(n))\n",
    "evenList=[i for i in list1 if i%2==0]\n",
    "oddList=[j for j in list1 if j%2!=0]\n",
    "print(evenList)\n",
    "print(oddList)\n",
    "print(len(evenList))\n"
   ]
  },
  {
   "cell_type": "code",
   "execution_count": 49,
   "id": "cb4898a7",
   "metadata": {},
   "outputs": [
    {
     "name": "stdout",
     "output_type": "stream",
     "text": [
      "Factorial of 55  is 12696403353658275925965100847566516959580321051449436762275840000000000000\n"
     ]
    }
   ],
   "source": [
    "#Calculating factorial of mumber without math library\n",
    "#Accepting user input\n",
    "num=int(input(\"Enter the number: \"))\n",
    "#Calculating factorial using loop\n",
    "i=1\n",
    "ans=1\n",
    "while i<=num:\n",
    "    ans=ans*i\n",
    "    i+=1\n",
    "#Showing answer of factorial\n",
    "print(\"Factorial of\",num,\" is\",ans)"
   ]
  },
  {
   "cell_type": "code",
   "execution_count": 52,
   "id": "1f152c83",
   "metadata": {},
   "outputs": [
    {
     "name": "stdout",
     "output_type": "stream",
     "text": [
      "{1: 1, 2: 4, 3: 9, 4: 16, 5: 25, 6: 36, 7: 49, 8: 64, 9: 81}\n"
     ]
    }
   ],
   "source": [
    "#Filling a dictionary from given key value pairs\n",
    "#Defining key value pair lists\n",
    "MyListA=[1,2,3,4,5,6,7,8,9]\n",
    "MyListB=[1,4,9,16,25,36,49,64,81]\n",
    "#Creating an empty dictionary\n",
    "MyDict={}\n",
    "#Creating a loop to add values to dictionary\n",
    "for i in range(len(MyListA)):\n",
    "    MyDict[MyListA[i]]=MyListB[i]\n",
    "#Printing newly created dictionary\n",
    "print(MyDict)"
   ]
  },
  {
   "cell_type": "code",
   "execution_count": 4,
   "id": "37e6a64e",
   "metadata": {},
   "outputs": [
    {
     "name": "stdout",
     "output_type": "stream",
     "text": [
      "print(value, ..., sep=' ', end='\\n', file=sys.stdout, flush=False)\n",
      "\n",
      "Prints the values to a stream, or to sys.stdout by default.\n",
      "Optional keyword arguments:\n",
      "file:  a file-like object (stream); defaults to the current sys.stdout.\n",
      "sep:   string inserted between values, default a space.\n",
      "end:   string appended after the last value, default a newline.\n",
      "flush: whether to forcibly flush the stream.\n"
     ]
    }
   ],
   "source": [
    "print(print.__doc__)"
   ]
  }
 ],
 "metadata": {
  "kernelspec": {
   "display_name": "Python 3",
   "language": "python",
   "name": "python3"
  },
  "language_info": {
   "codemirror_mode": {
    "name": "ipython",
    "version": 3
   },
   "file_extension": ".py",
   "mimetype": "text/x-python",
   "name": "python",
   "nbconvert_exporter": "python",
   "pygments_lexer": "ipython3",
   "version": "3.10.9 (main, Dec 19 2022, 17:35:49) [GCC 12.2.0]"
  },
  "vscode": {
   "interpreter": {
    "hash": "e7370f93d1d0cde622a1f8e1c04877d8463912d04d973331ad4851f04de6915a"
   }
  }
 },
 "nbformat": 4,
 "nbformat_minor": 5
}
