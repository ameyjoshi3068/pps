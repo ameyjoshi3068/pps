{
 "cells": [
  {
   "cell_type": "code",
   "execution_count": 9,
   "id": "d5c1841b",
   "metadata": {},
   "outputs": [
    {
     "name": "stdout",
     "output_type": "stream",
     "text": [
      "\n"
     ]
    }
   ],
   "source": [
    "#Q1. Write a python program to show the use of comments\n",
    "#This is a comment\n",
    "'''this\n",
    "is a\n",
    "multiline\n",
    "comment'''\n",
    "print() #This line is to tell interpreter that above is multiline comment"
   ]
  },
  {
   "cell_type": "code",
   "execution_count": null,
   "id": "742a583e",
   "metadata": {},
   "outputs": [],
   "source": [
    "#Q2. Write a python program to demonstrate the use of indentation\n",
    "#This file demonstrate the use of indentation\n",
    "if True:\n",
    "    print(\"correct indentation\")\n",
    "#Generates an error\n",
    "if True:\n",
    "print(\"correct indentation\")\n"
   ]
  },
  {
   "cell_type": "code",
   "execution_count": null,
   "id": "4859bc94",
   "metadata": {},
   "outputs": [],
   "source": [
    "#Q3. Write a python program to demonstrate use of data type and literals.\n",
    "#There are vast types of data in python Some basic types are given\n",
    "\n",
    "a=1   #This in integer\n",
    "b='string' #This is a string\n",
    "c=3.14  #This is a float\n",
    "d=9.5987462178 #This is a double float\n",
    "e=0   #This is a binary type\n",
    "e={}\n"
   ]
  },
  {
   "cell_type": "code",
   "execution_count": null,
   "id": "ffd70dec",
   "metadata": {},
   "outputs": [],
   "source": []
  }
 ],
 "metadata": {
  "kernelspec": {
   "display_name": "Python 3",
   "language": "python",
   "name": "python3"
  },
  "language_info": {
   "codemirror_mode": {
    "name": "ipython",
    "version": 3
   },
   "file_extension": ".py",
   "mimetype": "text/x-python",
   "name": "python",
   "nbconvert_exporter": "python",
   "pygments_lexer": "ipython3",
   "version": "3.10.8 (main, Nov  1 2022, 14:18:21) [GCC 12.2.0]"
  },
  "vscode": {
   "interpreter": {
    "hash": "767d51c1340bd893661ea55ea3124f6de3c7a262a8b4abca0554b478b1e2ff90"
   }
  }
 },
 "nbformat": 4,
 "nbformat_minor": 5
}
