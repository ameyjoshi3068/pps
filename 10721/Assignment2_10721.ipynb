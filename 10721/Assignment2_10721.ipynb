{
 "cells": [
  {
   "cell_type": "code",
   "execution_count": 12,
   "id": "d3972d7b",
   "metadata": {},
   "outputs": [
    {
     "name": "stdout",
     "output_type": "stream",
     "text": [
      "How many numbers do you want to enter?: 4\n",
      "Enter the number 1:1\n",
      "Enter the number 2:2\n",
      "Enter the number 3:3\n",
      "Enter the number 4:4\n",
      "The list is [1, 2, 3, 4]\n",
      "The maximum in the list is 4\n",
      "The minimum in the list is 1\n",
      "The sum of the elements in the list is 10\n",
      "Average of all numbers in the string is 2.5\n"
     ]
    }
   ],
   "source": [
    "#Q.1) Write a program in python to accept N numbers from user. compute and display maximum in list,minimum in list, sum and average of numbers\n",
    "\n",
    "#Enter how many numbers you want to enter?\n",
    "N=int(input(\"How many numbers do you want to enter?: \"))\n",
    "\n",
    "#Taking inputs one by one\n",
    "numList=[]\n",
    "for i in range(N):\n",
    "    num=int(input(f\"Enter the number {i+1}:\"))\n",
    "    numList.append(num)\n",
    "\n",
    "#Displaying the list\n",
    "print(\"The list is\",numList)\n",
    "\n",
    "#Finding maximum of list\n",
    "print(\"The maximum in the list is\",max(numList))\n",
    "\n",
    "#Finding minimum of list\n",
    "print(\"The minimum in the list is\",min(numList))\n",
    "\n",
    "#Finding sum of the list\n",
    "list_sum=0\n",
    "for i in numList:\n",
    "    list_sum=list_sum+i\n",
    "print(\"The sum of the elements in the list is\",list_sum)\n",
    "    \n",
    "#Finding average of the list\n",
    "print(\"Average of all numbers in the string is\",list_sum/N)\n",
    "    "
   ]
  },
  {
   "cell_type": "code",
   "execution_count": 1,
   "id": "d118312c",
   "metadata": {},
   "outputs": [
    {
     "name": "stdout",
     "output_type": "stream",
     "text": [
      "The complete list is []\n",
      "The sublist of odd numbers is []\n",
      "The sublist of even numbers is []\n"
     ]
    }
   ],
   "source": [
    "#Q.2)Write a program to accept list of N integers and partition list into two sublists even and odd numbers\n",
    "\n",
    "#Enter how many numbers you want to enter?\n",
    "N=int(input(\"How many numbers do you want to enter?: \"))\n",
    "\n",
    "#Defining empty lists\n",
    "numList=[]\n",
    "odd_list=[]\n",
    "even_list=[]\n",
    "\n",
    "#Taking inputs and dividing them\n",
    "for i in range(N):\n",
    "    num=int(input(f\"Enter the number {i+1} :\"))\n",
    "    numList.append(num)\n",
    "    if i%2==0:\n",
    "        even_list.append(i)\n",
    "        \n",
    "    else:\n",
    "        odd_list.append(i)\n",
    "     \n",
    "#Displaying the lists\n",
    "print(\"The complete list is\",numList)\n",
    "print(\"The sublist of odd numbers is\",odd_list)\n",
    "print(\"The sublist of even numbers is\",even_list)"
   ]
  },
  {
   "cell_type": "code",
   "execution_count": null,
   "id": "485250f3",
   "metadata": {},
   "outputs": [],
   "source": []
  }
 ],
 "metadata": {
  "kernelspec": {
   "display_name": "Python 3 (ipykernel)",
   "language": "python",
   "name": "python3"
  },
  "language_info": {
   "codemirror_mode": {
    "name": "ipython",
    "version": 3
   },
   "file_extension": ".py",
   "mimetype": "text/x-python",
   "name": "python",
   "nbconvert_exporter": "python",
   "pygments_lexer": "ipython3",
   "version": "3.10.9"
  }
 },
 "nbformat": 4,
 "nbformat_minor": 5
}
