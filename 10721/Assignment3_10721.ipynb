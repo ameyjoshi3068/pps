{
 "cells": [
  {
   "cell_type": "code",
   "execution_count": 14,
   "id": "f90adbf4",
   "metadata": {},
   "outputs": [
    {
     "name": "stdout",
     "output_type": "stream",
     "text": [
      "Enter the number of fibonacci numbers to be generated(minimum 2): 10\n",
      "[0, 1, 1, 2, 3, 5, 8, 13, 21, 34]\n"
     ]
    }
   ],
   "source": [
    "#Q.1) write a python program to accept from user the number of Fibonacci numbers to be generated and print the Fibonacci series.\n",
    "\n",
    "#Defining initial fibonacci series\n",
    "fibonacci_series=[0,1]\n",
    "\n",
    "#Asking the length of fibonacci series\n",
    "length=int(input(\"Enter the number of fibonacci numbers to be generated(minimum 2): \"))\n",
    "\n",
    "#Generating the fibonacci series\n",
    "for i in range(length-2):\n",
    "    new_no=fibonacci_series[i]+fibonacci_series[i+1]\n",
    "    fibonacci_series.append(new_no)\n",
    "\n",
    "#Displaying the list\n",
    "print(fibonacci_series)"
   ]
  },
  {
   "cell_type": "code",
   "execution_count": 1,
   "id": "d5f76df6",
   "metadata": {},
   "outputs": [
    {
     "name": "stdout",
     "output_type": "stream",
     "text": [
      "You have got 2nd division in Engg. Mathematics\n",
      "You have got 1st division in Engg. Chemistry\n",
      "You have got distinction in SME\n",
      "You have got 3rd division in BXE\n",
      "You have got 1st division in PPS\n"
     ]
    }
   ],
   "source": [
    "#Q.2) Write a python program to accept student’s five courses marks and compute his/her result. Student is passing if he/she scores marks equal to and above 40 in each course. If student scores aggregate greater than 75%, then the grade is distinction. If aggregate is 60>= and <75 then the grade if first division. If aggregate is 50>= and <60, then the grade is second division. If aggregate is 40>= and <50, then the grade is third division.\n",
    "\n",
    "#Accepting cousre marks and appending them to a list\n",
    "mark_list=[]\n",
    "sublist=[\"Engg. Mathematics\",\"Engg. Chemistry\",\"SME\",\"BXE\",\"PPS\"]\n",
    "for i in sublist:\n",
    "    mark=int(input(f\"Enter the marks in course {i}: \"))\n",
    "    mark_list.append(mark)\n",
    "    \n",
    "#Calculating if student has passed or failed  \n",
    "count=0\n",
    "for i in mark_list:\n",
    "    if i<40:\n",
    "        print(f\"Student has failed in {sublist[count]}\")\n",
    "        result=\"fail\"\n",
    "        break\n",
    "        count+=1\n",
    "    else:\n",
    "        result=\"pass\"\n",
    "#Defining a function to generate result       \n",
    "def sub_enquiry(count):\n",
    "    if mark_list[count]>=75:\n",
    "        print(\"You have got distinction in\",sublist[count])\n",
    "    elif mark_list[count]>=60 :\n",
    "        print(\"You have got 1st division in\",sublist[count])\n",
    "    elif mark_list[count]>=50 :\n",
    "        print(\"You have got 2nd division in\",sublist[count])\n",
    "    elif mark_list[count]>=40 :\n",
    "        print(\"You have got 3rd division in\",sublist[count])\n",
    "        \n",
    "        \n",
    "#generating result\n",
    "if result==\"pass\":\n",
    "    for i in range(len(mark_list)):\n",
    "        sub_enquiry(i)\n",
    "\n",
    "    \n"
   ]
  },
  {
   "cell_type": "code",
   "execution_count": null,
   "id": "e2a2f465",
   "metadata": {},
   "outputs": [],
   "source": []
  }
 ],
 "metadata": {
  "kernelspec": {
   "display_name": "Python 3",
   "language": "python",
   "name": "python3"
  },
  "language_info": {
   "codemirror_mode": {
    "name": "ipython",
    "version": 3
   },
   "file_extension": ".py",
   "mimetype": "text/x-python",
   "name": "python",
   "nbconvert_exporter": "python",
   "pygments_lexer": "ipython3",
   "version": "3.10.9"
  },
  "vscode": {
   "interpreter": {
    "hash": "e7370f93d1d0cde622a1f8e1c04877d8463912d04d973331ad4851f04de6915a"
   }
  }
 },
 "nbformat": 4,
 "nbformat_minor": 5
}
