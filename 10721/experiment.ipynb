{
 "cells": [
  {
   "cell_type": "code",
   "execution_count": 13,
   "metadata": {},
   "outputs": [
    {
     "name": "stdout",
     "output_type": "stream",
     "text": [
      "139736256726000\n",
      "139736256726000\n",
      "25\n",
      "[10, 20, 100, 150] [10, 20, 100, 150]\n"
     ]
    }
   ],
   "source": [
    "# def fun():\n",
    "#     global x\n",
    "#     x=7\n",
    "#     return x\n",
    "# y=fun()\n",
    "# print(id(x))\n",
    "# print(id(y))\n",
    "x=25\n",
    "y=30\n",
    "y=x\n",
    "print(id(y))\n",
    "print(id(x))\n",
    "y=99\n",
    "print(x)\n",
    "\n",
    "a = [10, 20]\n",
    "b = a\n",
    "b += [100, 150]\n",
    "print(a,b)"
   ]
  },
  {
   "cell_type": "code",
   "execution_count": 1,
   "metadata": {},
   "outputs": [
    {
     "name": "stdout",
     "output_type": "stream",
     "text": [
      "6\n"
     ]
    }
   ],
   "source": [
    "a=[2,3,5,6]\n",
    "print()"
   ]
  }
 ],
 "metadata": {
  "kernelspec": {
   "display_name": "Python 3",
   "language": "python",
   "name": "python3"
  },
  "language_info": {
   "codemirror_mode": {
    "name": "ipython",
    "version": 3
   },
   "file_extension": ".py",
   "mimetype": "text/x-python",
   "name": "python",
   "nbconvert_exporter": "python",
   "pygments_lexer": "ipython3",
   "version": "3.10.9"
  },
  "orig_nbformat": 4,
  "vscode": {
   "interpreter": {
    "hash": "e7370f93d1d0cde622a1f8e1c04877d8463912d04d973331ad4851f04de6915a"
   }
  }
 },
 "nbformat": 4,
 "nbformat_minor": 2
}
