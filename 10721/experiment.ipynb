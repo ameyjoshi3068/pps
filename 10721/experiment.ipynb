{
 "cells": [
  {
   "cell_type": "code",
   "execution_count": 4,
   "metadata": {},
   "outputs": [
    {
     "name": "stdout",
     "output_type": "stream",
     "text": [
      "140523781342192\n",
      "140523781342192\n",
      "25\n",
      "[10, 20, 100, 150] [10, 20, 100, 150]\n"
     ]
    }
   ],
   "source": [
    "# def fun():\n",
    "#     global x\n",
    "#     x=7\n",
    "#     return x\n",
    "# y=fun()\n",
    "# print(id(x))\n",
    "# print(id(y))\n",
    "x=25\n",
    "y=30\n",
    "y=x\n",
    "print(id(y))\n",
    "print(id(x))\n",
    "y=99\n",
    "print(x)\n",
    "\n",
    "a = [10, 20]\n",
    "b = a\n",
    "b += [100, 150]\n",
    "print(a,b)"
   ]
  },
  {
   "cell_type": "code",
   "execution_count": 29,
   "metadata": {},
   "outputs": [
    {
     "name": "stdout",
     "output_type": "stream",
     "text": [
      "10000000\n"
     ]
    }
   ],
   "source": [
    "num=int(input(\"$\"))\n",
    "def zeroInFactorial(num):\n",
    "    fives=num//5\n",
    "    if fives>=5:\n",
    "        zeroInFactorial(fives)\n",
    "    tens=fives/2\n",
    "    if tens is not int:\n",
    "        tens=tens+1\n",
    "    tens=int(tens)\n",
    "    return tens\n",
    "print(zeroInFactorial(num))"
   ]
  },
  {
   "cell_type": "code",
   "execution_count": 2,
   "metadata": {},
   "outputs": [
    {
     "name": "stdout",
     "output_type": "stream",
     "text": [
      "Invalid input\n",
      "program executed successfully\n",
      "Invalid input\n"
     ]
    }
   ],
   "source": [
    "def func1():\n",
    "    try:\n",
    "        num=int(input())\n",
    "        return (num)\n",
    "    except ValueError:\n",
    "        print(\"Invalid input\")\n",
    "        return \"Invalid input\"\n",
    "    except ZeroDivisionError as e:\n",
    "        print(\"Division by 0 is invalid\")\n",
    "        return (e)\n",
    "    finally:\n",
    "        print(\"program executed successfully\")\n",
    "\n",
    "    #When we write code directly after returning it wint get executed but if we use finally then it will get definitely executed\n",
    "print(func1())"
   ]
  },
  {
   "cell_type": "code",
   "execution_count": 1,
   "metadata": {},
   "outputs": [
    {
     "name": "stdout",
     "output_type": "stream",
     "text": [
      "What is the capital of india?\n",
      "('New Delhi', 'Mumbai', 'Kolkata', 'Banglore')\n",
      "World Health Day is observed on\n",
      "('Apr 7', 'Mar 6', 'Oct 24', 'Apr 28')\n",
      "Pongal is a popular festival of which state?\n",
      "('Karnataka', 'Kerala', 'Tamil Nadu', 'Andhra Pradesh')\n",
      "The death anniversary of which of the following leaders is observed as Martyrs' Day?\n",
      "('Smt. Indira Gandhi', 'PI. Jawaharlal Nehru', 'Mahatma Oandhi', 'Lal Bahadur Shastri')\n",
      "Who is the author of the epic 'Meghdoot'?\n",
      "('Vishakadatta', 'Valmiki', 'Banabhatta', 'Kalidas')\n",
      "'Good Friday' is observed to commemorate the event of\n",
      "('birth of Jesus Christ', \"birth of' St. Peter\", \"crucification 'of Jesus Christ\", 'rebirth of Jesus Christ')\n",
      "The language of Lakshadweep. a Union Territory of India, is\n",
      "('Tamil', 'Tamil', 'Hindi', 'Malyalam', 'Telgu')\n",
      "In which group of places the Kumbha Mela is held every twelve years?\n",
      "('Ujjain. Purl; Prayag. Haridwar', 'Prayag. Haridwar, Ujjain,. Nasik', 'Rameshwaram. Purl, Badrinath. Dwarika', 'Chittakoot', 'Ujjain', 'Prayag', 'Haridwar')\n",
      "The International Literacy Day is observed on\n",
      "('Sept 8', 'Nov 28', 'May 2', 'Sept 22')\n",
      "Bahubali festival is related to\n",
      "('Islam', 'Hinduism', 'Buddhism', 'Jainism')\n",
      "Which day is observed as the World Standards  Day?\n",
      "('June 26', 'Oct 14', 'Nov 15', 'Dec 2')\n",
      "Which of the following was the theme of the World Red Cross and Red Crescent Day?\n",
      "(\"'Dignity for all - focus on women'\", \"Dignity for all - focus on Children'\", \"Dignity for all - focus on Children'\", \"Nourishment for all-focus on children'\")\n",
      "September 27 is celebrated every year as\n",
      "(\"Teachers' Day\", 'National Integration Day', 'World Tourism Day', 'International Literacy Day')\n",
      "Who is the author of 'Manas Ka-Hans' ?Who is the author of the book 'Amrit Ki Ore'?\n",
      "('Khushwant Singh', 'Prem Chand', 'Jayashankar Prasad', 'Amrit Lal Nagar')\n",
      "Which of the following is observed as Sports Day every year?\n",
      "('Mukesh Kumar', 'Narendra Mohan', 'Narendra Mohan', 'Nirad C. Choudhary')\n",
      "Van Mahotsav was started by\n",
      "('22nd April', '26th  july', '29th August', '2nd October')\n"
     ]
    }
   ],
   "source": []
  }
 ],
 "metadata": {
  "kernelspec": {
   "display_name": "Python 3",
   "language": "python",
   "name": "python3"
  },
  "language_info": {
   "codemirror_mode": {
    "name": "ipython",
    "version": 3
   },
   "file_extension": ".py",
   "mimetype": "text/x-python",
   "name": "python",
   "nbconvert_exporter": "python",
   "pygments_lexer": "ipython3",
   "version": "3.10.9"
  },
  "orig_nbformat": 4,
  "vscode": {
   "interpreter": {
    "hash": "e7370f93d1d0cde622a1f8e1c04877d8463912d04d973331ad4851f04de6915a"
   }
  }
 },
 "nbformat": 4,
 "nbformat_minor": 2
}
