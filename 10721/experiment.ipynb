{
 "cells": [
  {
   "cell_type": "code",
   "execution_count": 4,
   "metadata": {},
   "outputs": [
    {
     "name": "stdout",
     "output_type": "stream",
     "text": [
      "140523781342192\n",
      "140523781342192\n",
      "25\n",
      "[10, 20, 100, 150] [10, 20, 100, 150]\n"
     ]
    }
   ],
   "source": [
    "# def fun():\n",
    "#     global x\n",
    "#     x=7\n",
    "#     return x\n",
    "# y=fun()\n",
    "# print(id(x))\n",
    "# print(id(y))\n",
    "x=25\n",
    "y=30\n",
    "y=x\n",
    "print(id(y))\n",
    "print(id(x))\n",
    "y=99\n",
    "print(x)\n",
    "\n",
    "a = [10, 20]\n",
    "b = a\n",
    "b += [100, 150]\n",
    "print(a,b)"
   ]
  },
  {
   "cell_type": "code",
   "execution_count": 29,
   "metadata": {},
   "outputs": [
    {
     "name": "stdout",
     "output_type": "stream",
     "text": [
      "10000000\n"
     ]
    }
   ],
   "source": [
    "num=int(input(\"$\"))\n",
    "def zeroInFactorial(num):\n",
    "    fives=num//5\n",
    "    if fives>=5:\n",
    "        zeroInFactorial(fives)\n",
    "    tens=fives/2\n",
    "    if tens is not int:\n",
    "        tens=tens+1\n",
    "    tens=int(tens)\n",
    "    return tens\n",
    "print(zeroInFactorial(num))"
   ]
  },
  {
   "cell_type": "code",
   "execution_count": 2,
   "metadata": {},
   "outputs": [
    {
     "name": "stdout",
     "output_type": "stream",
     "text": [
      "Invalid input\n",
      "program executed successfully\n",
      "Invalid input\n"
     ]
    }
   ],
   "source": [
    "def func1():\n",
    "    try:\n",
    "        num=int(input())\n",
    "        return (num)\n",
    "    except ValueError:\n",
    "        print(\"Invalid input\")\n",
    "        return \"Invalid input\"\n",
    "    except ZeroDivisionError as e:\n",
    "        print(\"Division by 0 is invalid\")\n",
    "        return (e)\n",
    "    finally:\n",
    "        print(\"program executed successfully\")\n",
    "\n",
    "    #When we write code directly after returning it wint get executed but if we use finally then it will get definitely executed\n",
    "print(func1())"
   ]
  },
  {
   "cell_type": "code",
   "execution_count": 2,
   "metadata": {},
   "outputs": [
    {
     "name": "stdout",
     "output_type": "stream",
     "text": [
      "[5, 5]\n"
     ]
    }
   ],
   "source": [
    "def prime_factors(num):\n",
    "    i = 2\n",
    "    factors = []\n",
    "    while i * i <= num:\n",
    "        if num % i:\n",
    "            i += 1\n",
    "        else:\n",
    "            num //= i\n",
    "            factors.append(i)\n",
    "    if num > 1:\n",
    "        factors.append(num)\n",
    "    return factors\n",
    "\n",
    "print(prime_factors(25))\n"
   ]
  }
 ],
 "metadata": {
  "kernelspec": {
   "display_name": "Python 3",
   "language": "python",
   "name": "python3"
  },
  "language_info": {
   "codemirror_mode": {
    "name": "ipython",
    "version": 3
   },
   "file_extension": ".py",
   "mimetype": "text/x-python",
   "name": "python",
   "nbconvert_exporter": "python",
   "pygments_lexer": "ipython3",
   "version": "3.10.9"
  },
  "orig_nbformat": 4,
  "vscode": {
   "interpreter": {
    "hash": "e7370f93d1d0cde622a1f8e1c04877d8463912d04d973331ad4851f04de6915a"
   }
  }
 },
 "nbformat": 4,
 "nbformat_minor": 2
}
