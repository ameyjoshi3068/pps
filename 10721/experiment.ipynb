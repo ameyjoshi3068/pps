{
 "cells": [
  {
   "cell_type": "code",
   "execution_count": 4,
   "metadata": {},
   "outputs": [
    {
     "name": "stdout",
     "output_type": "stream",
     "text": [
      "140523781342192\n",
      "140523781342192\n",
      "25\n",
      "[10, 20, 100, 150] [10, 20, 100, 150]\n"
     ]
    }
   ],
   "source": [
    "# def fun():\n",
    "#     global x\n",
    "#     x=7\n",
    "#     return x\n",
    "# y=fun()\n",
    "# print(id(x))\n",
    "# print(id(y))\n",
    "x=25\n",
    "y=30\n",
    "y=x\n",
    "print(id(y))\n",
    "print(id(x))\n",
    "y=99\n",
    "print(x)\n",
    "\n",
    "a = [10, 20]\n",
    "b = a\n",
    "b += [100, 150]\n",
    "print(a,b)"
   ]
  },
  {
   "cell_type": "code",
   "execution_count": 12,
   "metadata": {},
   "outputs": [
    {
     "name": "stdout",
     "output_type": "stream",
     "text": [
      "2\n"
     ]
    }
   ],
   "source": [
    "a=[2,3,5,6]\n",
    "print(a.index(5))"
   ]
  },
  {
   "cell_type": "code",
   "execution_count": 29,
   "metadata": {},
   "outputs": [
    {
     "name": "stdout",
     "output_type": "stream",
     "text": [
      "10000000\n"
     ]
    }
   ],
   "source": [
    "num=int(input(\"$\"))\n",
    "def zeroInFactorial(num):\n",
    "    fives=num//5\n",
    "    if fives>=5:\n",
    "        zeroInFactorial(fives)\n",
    "    tens=fives/2\n",
    "    if tens is not int:\n",
    "        tens=tens+1\n",
    "    tens=int(tens)\n",
    "    return tens\n",
    "print(zeroInFactorial(num))"
   ]
  },
  {
   "cell_type": "code",
   "execution_count": 23,
   "metadata": {},
   "outputs": [
    {
     "ename": "ValueError",
     "evalue": "invalid literal for int() with base 10: ''",
     "output_type": "error",
     "traceback": [
      "\u001b[0;31m---------------------------------------------------------------------------\u001b[0m",
      "\u001b[0;31mValueError\u001b[0m                                Traceback (most recent call last)",
      "Cell \u001b[0;32mIn[23], line 4\u001b[0m\n\u001b[1;32m      2\u001b[0m record\u001b[39m=\u001b[39m[]\n\u001b[1;32m      3\u001b[0m scores\u001b[39m=\u001b[39m\u001b[39mset\u001b[39m()\n\u001b[0;32m----> 4\u001b[0m \u001b[39mfor\u001b[39;00m _ \u001b[39min\u001b[39;00m \u001b[39mrange\u001b[39m(\u001b[39mint\u001b[39;49m(\u001b[39minput\u001b[39;49m())):\n\u001b[1;32m      5\u001b[0m     name \u001b[39m=\u001b[39m \u001b[39minput\u001b[39m()\n\u001b[1;32m      6\u001b[0m     score \u001b[39m=\u001b[39m \u001b[39mfloat\u001b[39m(\u001b[39minput\u001b[39m())\n",
      "\u001b[0;31mValueError\u001b[0m: invalid literal for int() with base 10: ''"
     ]
    }
   ],
   "source": [
    "\n",
    "5\n",
    "Prashant\n",
    "52.22\n",
    "Kush\n",
    "52.223\n",
    "Kant\n",
    "52.222\n",
    "Kanti\n",
    "52.2222\n",
    "Harshit\n",
    "52.22222"
   ]
  }
 ],
 "metadata": {
  "kernelspec": {
   "display_name": "Python 3",
   "language": "python",
   "name": "python3"
  },
  "language_info": {
   "codemirror_mode": {
    "name": "ipython",
    "version": 3
   },
   "file_extension": ".py",
   "mimetype": "text/x-python",
   "name": "python",
   "nbconvert_exporter": "python",
   "pygments_lexer": "ipython3",
   "version": "3.10.9"
  },
  "orig_nbformat": 4,
  "vscode": {
   "interpreter": {
    "hash": "e7370f93d1d0cde622a1f8e1c04877d8463912d04d973331ad4851f04de6915a"
   }
  }
 },
 "nbformat": 4,
 "nbformat_minor": 2
}
