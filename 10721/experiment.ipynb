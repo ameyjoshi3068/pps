{
 "cells": [
  {
   "cell_type": "code",
   "execution_count": 4,
   "metadata": {},
   "outputs": [
    {
     "name": "stdout",
     "output_type": "stream",
     "text": [
      "140523781342192\n",
      "140523781342192\n",
      "25\n",
      "[10, 20, 100, 150] [10, 20, 100, 150]\n"
     ]
    }
   ],
   "source": [
    "# def fun():\n",
    "#     global x\n",
    "#     x=7\n",
    "#     return x\n",
    "# y=fun()\n",
    "# print(id(x))\n",
    "# print(id(y))\n",
    "x=25\n",
    "y=30\n",
    "y=x\n",
    "print(id(y))\n",
    "print(id(x))\n",
    "y=99\n",
    "print(x)\n",
    "\n",
    "a = [10, 20]\n",
    "b = a\n",
    "b += [100, 150]\n",
    "print(a,b)"
   ]
  },
  {
   "cell_type": "code",
   "execution_count": 29,
   "metadata": {},
   "outputs": [
    {
     "name": "stdout",
     "output_type": "stream",
     "text": [
      "10000000\n"
     ]
    }
   ],
   "source": [
    "num=int(input(\"$\"))\n",
    "def zeroInFactorial(num):\n",
    "    fives=num//5\n",
    "    if fives>=5:\n",
    "        zeroInFactorial(fives)\n",
    "    tens=fives/2\n",
    "    if tens is not int:\n",
    "        tens=tens+1\n",
    "    tens=int(tens)\n",
    "    return tens\n",
    "print(zeroInFactorial(num))"
   ]
  },
  {
   "cell_type": "code",
   "execution_count": 2,
   "metadata": {},
   "outputs": [
    {
     "name": "stdout",
     "output_type": "stream",
     "text": [
      "Invalid input\n",
      "program executed successfully\n",
      "Invalid input\n"
     ]
    }
   ],
   "source": [
    "def func1():\n",
    "    try:\n",
    "        num=int(input())\n",
    "        return (num)\n",
    "    except ValueError:\n",
    "        print(\"Invalid input\")\n",
    "        return \"Invalid input\"\n",
    "    except ZeroDivisionError as e:\n",
    "        print(\"Division by 0 is invalid\")\n",
    "        return (e)\n",
    "    finally:\n",
    "        print(\"program executed successfully\")\n",
    "\n",
    "    #When we write code directly after returning it wint get executed but if we use finally then it will get definitely executed\n",
    "print(func1())"
   ]
  },
  {
   "cell_type": "code",
   "execution_count": 33,
   "metadata": {},
   "outputs": [
    {
     "name": "stdout",
     "output_type": "stream",
     "text": [
      "                      l\n",
      "                     e\n",
      "                    t\n",
      "                   t\n",
      "                  e\n",
      "                 r\n",
      "                s\n",
      "               G\n",
      "              o\n",
      "             R\n",
      "            o\n",
      "           u\n",
      "          n\n",
      "         d\n",
      "        A\n",
      "       n\n",
      "      d\n",
      "     G\n",
      "    o\n",
      "   u\n",
      "  n\n",
      " d\n",
      "l\n",
      "e\n",
      "t\n",
      "t\n",
      "e\n",
      "r\n",
      "s\n",
      "G\n",
      "o\n",
      "R\n",
      "o\n",
      "u\n",
      "n\n",
      "d\n",
      "A\n",
      "n\n",
      "d\n",
      "G\n",
      "o\n",
      "u\n",
      "n\n",
      "d\n",
      "l\n",
      "e\n",
      "t\n",
      "t\n",
      "e\n",
      "r\n",
      "s\n",
      "G\n",
      "o\n",
      "R\n",
      "o\n",
      "u\n",
      "n\n",
      "d\n",
      "A\n",
      "n\n",
      "d\n",
      "G\n",
      "o\n",
      "u\n",
      "n\n",
      "d\n",
      "l\n",
      "e\n",
      "t\n",
      "t\n",
      "e\n",
      "r\n",
      "s\n",
      "G\n",
      "o\n",
      "R\n",
      "o\n",
      "u\n",
      "n\n",
      "d\n",
      "A\n",
      "n\n",
      "d\n",
      "G\n",
      "o\n",
      "u\n",
      "n\n",
      "d\n",
      "l\n",
      "e\n",
      "t\n",
      "t\n",
      "e\n",
      "r\n",
      "s\n",
      "G\n",
      "o\n",
      "R\n",
      "o\n",
      "u\n",
      "n\n",
      "d\n",
      "A\n",
      "n\n",
      "d\n",
      "G\n",
      "o\n",
      "u\n",
      "n\n",
      "d\n",
      "\n"
     ]
    }
   ],
   "source": [
    "string=\"lettersGoRoundAndGound\"\n",
    "count=len(string)\n",
    "for multiplier in [1,2,4,8,16]:\n",
    "  for i in string:\n",
    "    print(\" \"*count*multiplier+i)\n",
    "    count-=1\n",
    "print()\n"
   ]
  }
 ],
 "metadata": {
  "kernelspec": {
   "display_name": "Python 3",
   "language": "python",
   "name": "python3"
  },
  "language_info": {
   "codemirror_mode": {
    "name": "ipython",
    "version": 3
   },
   "file_extension": ".py",
   "mimetype": "text/x-python",
   "name": "python",
   "nbconvert_exporter": "python",
   "pygments_lexer": "ipython3",
   "version": "3.10.9"
  },
  "orig_nbformat": 4,
  "vscode": {
   "interpreter": {
    "hash": "e7370f93d1d0cde622a1f8e1c04877d8463912d04d973331ad4851f04de6915a"
   }
  }
 },
 "nbformat": 4,
 "nbformat_minor": 2
}
