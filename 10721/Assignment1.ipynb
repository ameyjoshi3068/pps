{
 "cells": [
  {
   "cell_type": "code",
   "execution_count": 5,
   "id": "f1a6d399",
   "metadata": {},
   "outputs": [
    {
     "name": "stdout",
     "output_type": "stream",
     "text": [
      "\n",
      "________________________________________________________________________________________\n",
      "                    \n",
      "                                MetaverseBuilders.inc                                   \n",
      "________________________________________________________________________________________\n",
      "                                                                                        \n",
      "                               Salary Slip Of Dec 2022                                  \n",
      "________________________________________________________________________________________\n",
      "                                                                                        \n",
      "Name:        Abhijeet Dineh Pande                Department: website developement       \n",
      "Emp. No:     99885476                            Bank Name:  State Bank Of India        \n",
      "Designation: Software Engineer                   A/C No:     64579138568                \n",
      "________________________________________________________________________________________\n",
      "                                                                                        \n",
      "                Earnings                                  Deductions                    \n",
      "________________________________________________________________________________________\n",
      "                                                                                        \n",
      "Basic Salary:         654168954.00                                                      \n",
      "House Rent Allowance: 65416895.40                                                            \n",
      "Travel Allowance:     150458859.42                       Professional TAX: 150458859.42               \n",
      "                                                                                        \n",
      "Gross Salary:         752294297.10                    Total Deductions: 150458859.420000                \n",
      "________________________________________________________________________________________\n",
      "                                                                                        \n",
      "                            Net Salary = 601835437.68                                      \n",
      "________________________________________________________________________________________\n",
      "\n"
     ]
    }
   ],
   "source": [
    "#Q. Write a python program to calculate salary of an employee given his basic pay(Take input from user). Calculate gross salary of an employee.Let HRA be 10%of ther basic pay and TA be 5% of the basic pay. Let employee pay proffessional tax as 2% of the gross salary. Calculate net salary payable.\n",
    "#Taking the input of basic pay\n",
    "basic_pay=int(input(\"Enter the basic pay: \"))\n",
    "#calculating HRA\n",
    "hra=basic_pay*0.1\n",
    "#calculatng TA\n",
    "ta=basic_pay*0.05\n",
    "#Calculating gross salary\n",
    "gross_salary=basic_pay+hra+ta\n",
    "#Calculating Tax deductions\n",
    "tax=gross_salary*0.2\n",
    "#Calculating Net salary Payable\n",
    "net_salary=gross_salary-tax\n",
    "#Printing the salary slip\n",
    "print(f'''\n",
    "________________________________________________________________________________________\n",
    "                    \n",
    "                                MetaverseBuilders.inc                                   \n",
    "________________________________________________________________________________________\n",
    "                                                                                        \n",
    "                               Salary Slip Of Dec 2022                                  \n",
    "________________________________________________________________________________________\n",
    "                                                                                        \n",
    "Name:        Abhijeet Dineh Pande                Department: website developement       \n",
    "Emp. No:     99885476                            Bank Name:  State Bank Of India        \n",
    "Designation: Software Engineer                   A/C No:     64579138568                \n",
    "________________________________________________________________________________________\n",
    "                                                                                        \n",
    "                Earnings                                  Deductions                    \n",
    "________________________________________________________________________________________\n",
    "                                                                                        \n",
    "Basic Salary:         {basic_pay:^.2f}                                                      \n",
    "House Rent Allowance: {hra:^.2f}                                                            \n",
    "Travel Allowance:     {tax:^.2f}                       Professional TAX: {tax:^.2f}               \n",
    "                                                                                        \n",
    "Gross Salary:         {gross_salary:^.2f}                    Total Deductions: {tax:^.2f}                \n",
    "________________________________________________________________________________________\n",
    "                                                                                        \n",
    "                            Net Salary = {net_salary:^.2f}                                      \n",
    "________________________________________________________________________________________\n",
    "''')"
   ]
  },
  {
   "cell_type": "code",
   "execution_count": 30,
   "id": "375a2b26",
   "metadata": {},
   "outputs": [
    {
     "name": "stdout",
     "output_type": "stream",
     "text": [
      "Enter first number: 5\n",
      "Enter second number(If not required, press enter): 5\n",
      "Enter which operation you wanr to perform(Options= +, -, *, /, ^, !). Enter 'Done' after all calculations are doneDone\n"
     ]
    }
   ],
   "source": [
    "#Q. Write a python program to simulate simple calculator that performs basic tasks such as addition, substraction, multiplication and division with special operations like computing x^y and x!\n",
    "\n",
    "# Taking input of two numbers \n",
    "num1=int(input(\"Enter first number: \"))\n",
    "num2=int(input(\"Enter second number(If not required, press enter): \"))\n",
    "\n",
    "#Operating in loop\n",
    "while 1:\n",
    "#Asking for operation\n",
    " operation=input(\"Enter which operation you wanr to perform(Options= +, -, *, /, ^, !). Enter 'Done' after all calculations are done: \")\n",
    "\n",
    "#Breaking loop after calculation is done\n",
    " if operation==\"Done\":\n",
    "                 break\n",
    "\n",
    "#Case of addition\n",
    " elif operation==\"+\":\n",
    "    print(num1+num2)\n",
    "    \n",
    "#Case of substraction\n",
    " elif operation==\"-\":\n",
    "    print(num1-num2)\n",
    "    \n",
    "#Case of multiplication\n",
    " elif operation==\"*\":\n",
    "    print(num1*num2)\n",
    "    \n",
    "#Case of Division\n",
    " elif operation==\"/\":\n",
    "    print(num1/num2)\n",
    "    \n",
    "#Special case of XOR\n",
    " elif operation==\"^\":\n",
    "    print(num1^num2)\n",
    "    \n",
    "#Special case of NOT\n",
    " elif operation==\"!\":\n",
    "    print(~num1)\n",
    "\n",
    "\n",
    "# If none of given operator is specified   \n",
    " else: print(\"Invalid Operation\")\n",
    "    "
   ]
  },
  {
   "cell_type": "code",
   "execution_count": null,
   "id": "1fac0659",
   "metadata": {},
   "outputs": [],
   "source": []
  },
  {
   "cell_type": "code",
   "execution_count": null,
   "id": "6875e059",
   "metadata": {},
   "outputs": [],
   "source": []
  }
 ],
 "metadata": {
  "kernelspec": {
   "display_name": "Python 3",
   "language": "python",
   "name": "python3"
  },
  "language_info": {
   "codemirror_mode": {
    "name": "ipython",
    "version": 3
   },
   "file_extension": ".py",
   "mimetype": "text/x-python",
   "name": "python",
   "nbconvert_exporter": "python",
   "pygments_lexer": "ipython3",
   "version": "3.10.9 (main, Dec 19 2022, 17:35:49) [GCC 12.2.0]"
  },
  "vscode": {
   "interpreter": {
    "hash": "e7370f93d1d0cde622a1f8e1c04877d8463912d04d973331ad4851f04de6915a"
   }
  }
 },
 "nbformat": 4,
 "nbformat_minor": 5
}
