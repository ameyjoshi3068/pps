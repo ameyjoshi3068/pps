{
 "cells": [
  {
   "cell_type": "code",
   "execution_count": 23,
   "id": "e9b6a146",
   "metadata": {},
   "outputs": [],
   "source": [
    "list1=[1,2,3,4,5,6,7,8,9,10]\n",
    "test=False\n",
    "for i in list1:\n",
    "    for j in range (i):\n",
    "        if j==0:\n",
    "            break\n",
    "        if i%j==0:\n",
    "            print(f\"Number {i} is not prime number\")\n",
    "            break\n",
    "        else:\n",
    "            test=True\n",
    "\n",
    "    if test==True:\n",
    "        print (f\"Number {i} is Prime number\")"
   ]
  }
 ],
 "metadata": {
  "kernelspec": {
   "display_name": "Python 3",
   "language": "python",
   "name": "python3"
  },
  "language_info": {
   "codemirror_mode": {
    "name": "ipython",
    "version": 3
   },
   "file_extension": ".py",
   "mimetype": "text/x-python",
   "name": "python",
   "nbconvert_exporter": "python",
   "pygments_lexer": "ipython3",
   "version": "3.10.8"
  },
  "vscode": {
   "interpreter": {
    "hash": "e7370f93d1d0cde622a1f8e1c04877d8463912d04d973331ad4851f04de6915a"
   }
  }
 },
 "nbformat": 4,
 "nbformat_minor": 5
}
