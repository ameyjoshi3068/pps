{
 "cells": [
  {
   "cell_type": "code",
   "execution_count": 2,
   "id": "e9b6a146",
   "metadata": {},
   "outputs": [
    {
     "name": "stdout",
     "output_type": "stream",
     "text": [
      "False\n"
     ]
    }
   ],
   "source": [
    "print (0.5 + 0.2 == 0.3)"
   ]
  },
  {
   "cell_type": "code",
   "execution_count": 12,
   "id": "4a55d9ec",
   "metadata": {},
   "outputs": [
    {
     "name": "stdout",
     "output_type": "stream",
     "text": [
      "[[4, 132, 14], [12, 14, 18], [18, 2, 14]]\n"
     ]
    }
   ],
   "source": [
    "X=[[2,66,7],[6,7,9],[9,1,7]]\n",
    "Y=[[2,66,7],[6,7,9],[9,1,7]]\n",
    "\n",
    "result = [[0,0,0],[0,0,0],[0,0,0]]\n",
    "# iterate through rows\n",
    "for i in range(len(X)):\n",
    "# iterate through columns\n",
    "  for j in range(len(X[0])):\n",
    "    result[i][j] = X[i][j] + Y[i][j]\n",
    "# for r in result:\n",
    "#    print(r)\n",
    "print(result)"
   ]
  },
  {
   "cell_type": "code",
   "execution_count": 3,
   "id": "dc7e79eb",
   "metadata": {},
   "outputs": [
    {
     "name": "stdout",
     "output_type": "stream",
     "text": [
      "I like  rock\n"
     ]
    }
   ],
   "source": [
    "genre =[\"pop\", \"rock\", \"jazz\"]\n",
    "index=int(input(\"Enter the index: \"))\n",
    "print(\"I like\",genre[index])"
   ]
  }
 ],
 "metadata": {
  "kernelspec": {
   "display_name": "Python 3",
   "language": "python",
   "name": "python3"
  },
  "language_info": {
   "codemirror_mode": {
    "name": "ipython",
    "version": 3
   },
   "file_extension": ".py",
   "mimetype": "text/x-python",
   "name": "python",
   "nbconvert_exporter": "python",
   "pygments_lexer": "ipython3",
   "version": "3.10.8 (main, Nov  1 2022, 14:18:21) [GCC 12.2.0]"
  },
  "vscode": {
   "interpreter": {
    "hash": "e7370f93d1d0cde622a1f8e1c04877d8463912d04d973331ad4851f04de6915a"
   }
  }
 },
 "nbformat": 4,
 "nbformat_minor": 5
}
