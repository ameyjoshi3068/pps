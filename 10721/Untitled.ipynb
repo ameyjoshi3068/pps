{
 "cells": [
  {
   "cell_type": "code",
   "execution_count": null,
   "id": "e9b6a146",
   "metadata": {},
   "outputs": [],
   "source": [
    "async def test():\n",
    "    for i in range(2048):\n",
    "        num=i\n",
    "    await print(num)\n"
   ]
  }
 ],
 "metadata": {
  "kernelspec": {
   "display_name": "Python 3",
   "language": "python",
   "name": "python3"
  },
  "language_info": {
   "codemirror_mode": {
    "name": "ipython",
    "version": 3
   },
   "file_extension": ".py",
   "mimetype": "text/x-python",
   "name": "python",
   "nbconvert_exporter": "python",
   "pygments_lexer": "ipython3",
   "version": "3.10.8 (main, Nov  1 2022, 14:18:21) [GCC 12.2.0]"
  },
  "vscode": {
   "interpreter": {
    "hash": "e7370f93d1d0cde622a1f8e1c04877d8463912d04d973331ad4851f04de6915a"
   }
  }
 },
 "nbformat": 4,
 "nbformat_minor": 5
}
